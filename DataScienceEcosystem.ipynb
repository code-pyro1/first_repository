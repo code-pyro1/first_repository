{
 "cells": [
  {
   "cell_type": "markdown",
   "id": "ebe9358d-26a0-4ad7-aa65-1b2f2ce1ed8c",
   "metadata": {},
   "source": [
    "# Data Science Tools and Ecosystem"
   ]
  },
  {
   "cell_type": "markdown",
   "id": "9fca3f93-eea5-49b8-b46c-ad5da89bf801",
   "metadata": {},
   "source": [
    "In this notebook, Data Science Tools and Ecosystem are summarized"
   ]
  },
  {
   "cell_type": "markdown",
   "id": "856ed2ef-b9ff-4cc6-8199-3c62499c352d",
   "metadata": {},
   "source": [
    "**Objectives**:\n",
    "\n",
    "- introduction to jupyter notebook\n",
    "-  the function of jupyter kernels\n",
    "- how jupyter labs allow acess to multiple jupyter notebook files\n",
    " "
   ]
  },
  {
   "cell_type": "markdown",
   "id": "d0dfe02c-097b-4f88-8e91-7143cc3b5f2b",
   "metadata": {},
   "source": [
    "Some of the popular languages that Data Scientist use are:\n",
    "\n",
    "1. Python\n",
    "2. R\n",
    "3. Julia"
   ]
  },
  {
   "cell_type": "markdown",
   "id": "cbabdcdd-8060-4b16-99d9-b9fe816a16ff",
   "metadata": {},
   "source": [
    "Some of the commonly used libraries used by Data Scientists include:\n",
    "\n",
    "1. Pandas\n",
    "2. seaborn\n",
    "3. scikit-learn\n",
    "4. keras\n",
    "5. vegas\n",
    "6. bigDeeplearning"
   ]
  },
  {
   "cell_type": "markdown",
   "id": "e6ce2ff5-6de2-4f5b-bcea-7adcedd8365c",
   "metadata": {},
   "source": [
    "|Data Science Tools|\n",
    "|------------------|\n",
    "|1.Jupyter|\n",
    "|2.Rstudio|\n",
    "|3.Apache Zeppelin|"
   ]
  },
  {
   "cell_type": "markdown",
   "id": "fbc815ae-8837-4554-851b-9398b2e44989",
   "metadata": {},
   "source": [
    "### Below are a few examples of evaluating arithmetic expressions in Python"
   ]
  },
  {
   "cell_type": "markdown",
   "id": "62078773-7d8d-402d-8552-5823b29023f8",
   "metadata": {},
   "source": [
    "*This a simple arithmetic expression to mutiply then add integers*"
   ]
  },
  {
   "cell_type": "code",
   "execution_count": 1,
   "id": "f57558c7-1c06-490d-936f-d5818f482296",
   "metadata": {},
   "outputs": [
    {
     "data": {
      "text/plain": [
       "17"
      ]
     },
     "execution_count": 1,
     "metadata": {},
     "output_type": "execute_result"
    }
   ],
   "source": [
    "(3*4)+5"
   ]
  },
  {
   "cell_type": "markdown",
   "id": "aa9ba886-56e6-4ca0-afac-0ba8299cd319",
   "metadata": {},
   "source": [
    "*This will convert 200 minutes to hours by diving by 60*"
   ]
  },
  {
   "cell_type": "code",
   "execution_count": 7,
   "id": "a6644b33-26f4-4d7d-a96d-f3821d7baf1f",
   "metadata": {},
   "outputs": [
    {
     "name": "stdout",
     "output_type": "stream",
     "text": [
      "200min when converted into hours gives 3.3333333333333335 hours\n"
     ]
    }
   ],
   "source": [
    "min=200\n",
    "min_to_hours=min/60\n",
    "print(f'200min when converted into hours gives {min_to_hours} hours')"
   ]
  },
  {
   "cell_type": "markdown",
   "id": "ae1847f4-1275-4553-bcc4-b97d47419a19",
   "metadata": {},
   "source": [
    "## Author\n",
    "Praise Jefferson"
   ]
  }
 ],
 "metadata": {
  "kernelspec": {
   "display_name": "Python 3 (ipykernel)",
   "language": "python",
   "name": "python3"
  },
  "language_info": {
   "codemirror_mode": {
    "name": "ipython",
    "version": 3
   },
   "file_extension": ".py",
   "mimetype": "text/x-python",
   "name": "python",
   "nbconvert_exporter": "python",
   "pygments_lexer": "ipython3",
   "version": "3.12.4"
  }
 },
 "nbformat": 4,
 "nbformat_minor": 5
}
